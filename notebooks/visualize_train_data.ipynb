{
 "cells": [
  {
   "cell_type": "code",
   "execution_count": 2,
   "id": "10d3a674",
   "metadata": {},
   "outputs": [],
   "source": [
    "from dataclasses import dataclass\n",
    "import numpy as np\n",
    "from pathlib import Path"
   ]
  },
  {
   "cell_type": "code",
   "execution_count": 3,
   "id": "7dd1f474",
   "metadata": {},
   "outputs": [],
   "source": [
    "@dataclass\n",
    "class OccPlacementPair:\n",
    "    occ: np.ndarray\n",
    "    placements: np.ndarray\n",
    "    valid: np.ndarray\n",
    "\n",
    "    def save(self, path: str):\n",
    "        data = {\n",
    "            \"occ\": self.occ,\n",
    "            \"placements\": self.placements,\n",
    "            \"valid\": self.valid\n",
    "        }\n",
    "        np.savez_compressed(path, **data)\n",
    "    \n",
    "    @classmethod\n",
    "    def load(cls, path: str):\n",
    "        data = np.load(path)\n",
    "        return cls(\n",
    "            occ=data[\"occ\"], \n",
    "            placements=data[\"placements\"],\n",
    "            valid=data[\"valid\"]\n",
    "        )"
   ]
  },
  {
   "cell_type": "code",
   "execution_count": 18,
   "id": "35566811",
   "metadata": {},
   "outputs": [],
   "source": [
    "data_dir = Path(\"../../../dataset/tire_mask_v2\")\n",
    "data_list = list(data_dir.glob(\"*.npz\"))"
   ]
  },
  {
   "cell_type": "code",
   "execution_count": 21,
   "id": "a2d14a67",
   "metadata": {},
   "outputs": [],
   "source": [
    "import matplotlib.pyplot as plt\n",
    "from matplotlib.colors import ListedColormap"
   ]
  },
  {
   "cell_type": "code",
   "execution_count": 22,
   "id": "b3906fa7",
   "metadata": {},
   "outputs": [],
   "source": [
    "cmap = plt.get_cmap('tab20', 16)\n",
    "colors = cmap(np.linspace(0, 1, 16))[:, :3]  # (15, 3), RGBA → RGB\n",
    "colors[0] = np.array([0,0,0])\n",
    "custom_cmap = ListedColormap(colors)"
   ]
  },
  {
   "cell_type": "code",
   "execution_count": 25,
   "id": "28561665",
   "metadata": {},
   "outputs": [],
   "source": [
    "def draw_plot(idx):\n",
    "    data = OccPlacementPair.load(data_list[idx])\n",
    "\n",
    "    class_mask = np.argmax(data.placements, axis=-1)\n",
    "    invalid_2d = data.placements.sum(axis=-1) == 0\n",
    "    class_mask = class_mask + 1\n",
    "    class_mask[invalid_2d] = 0\n",
    "    placements = colors[class_mask]\n",
    "\n",
    "    class_mask = np.argmax(data.valid, axis=-1)\n",
    "    invalid_2d = (~data.valid).sum(axis=-1) == 0\n",
    "    class_mask = class_mask + 1\n",
    "    class_mask[invalid_2d] = 0\n",
    "    valid = colors[class_mask]\n",
    "    print(valid.shape, valid.max())\n",
    "\n",
    "    fig, ax = plt.subplots(1, 3)\n",
    "    mappable = ax[0].imshow(data.occ[0], cmap=custom_cmap, vmin=0, vmax=15)\n",
    "    ax[1].imshow(valid)\n",
    "    ax[2].imshow(placements)\n",
    "    fig.tight_layout()\n",
    "\n",
    "    cbar = fig.colorbar(\n",
    "        mappable,\n",
    "        ax=ax.tolist(),     # 전체 subplot을 리스트로 넘기기\n",
    "        orientation='horizontal',\n",
    "        fraction=0.05,       # colorbar 크기 조정\n",
    "        pad=0.05             # 그림과 colorbar 사이 간격\n",
    "    )"
   ]
  },
  {
   "cell_type": "code",
   "execution_count": 26,
   "id": "22b791a6",
   "metadata": {},
   "outputs": [
    {
     "name": "stdout",
     "output_type": "stream",
     "text": [
      "(160, 89, 3) 1.0\n"
     ]
    },
    {
     "data": {
      "image/png": "[encoded data removed]",
      "text/plain": [
       "<Figure size 640x480 with 4 Axes>"
      ]
     },
     "metadata": {},
     "output_type": "display_data"
    }
   ],
   "source": [
    "idx = 0\n",
    "\n",
    "draw_plot(idx)"
   ]
  },
  {
   "cell_type": "code",
   "execution_count": null,
   "id": "4d06d76c",
   "metadata": {},
   "outputs": [],
   "source": []
  }
 ],
 "metadata": {
  "kernelspec": {
   "display_name": ".venv",
   "language": "python",
   "name": "python3"
  },
  "language_info": {
   "codemirror_mode": {
    "name": "ipython",
    "version": 3
   },
   "file_extension": ".py",
   "mimetype": "text/x-python",
   "name": "python",
   "nbconvert_exporter": "python",
   "pygments_lexer": "ipython3",
   "version": "3.9.19"
  }
 },
 "nbformat": 4,
 "nbformat_minor": 5
}
